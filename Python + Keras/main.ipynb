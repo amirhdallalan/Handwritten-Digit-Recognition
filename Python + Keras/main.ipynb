{
 "cells": [
  {
   "cell_type": "code",
   "execution_count": 1,
   "metadata": {},
   "outputs": [],
   "source": [
    "# import the libraries\n",
    "import numpy as np\n",
    "from tensorflow import keras\n",
    "from keras.models import Sequential\n",
    "from keras.layers import Dense, Dropout, Flatten\n",
    "from keras.layers import Conv2D, MaxPooling2D"
   ]
  },
  {
   "cell_type": "code",
   "execution_count": 2,
   "metadata": {},
   "outputs": [
    {
     "name": "stdout",
     "output_type": "stream",
     "text": [
      "X Train shape:  (60000, 28, 28)\n",
      "Y Train shape:  (60000,)\n",
      "X Test shape:   (10000, 28, 28)\n",
      "Y Test shape:   (10000,)\n"
     ]
    }
   ],
   "source": [
    "# load dataset\n",
    "\n",
    "data = np.load(\"mnist.npz\")\n",
    "x_train_origin = data['x_train']\n",
    "y_train_origin = data['y_train']\n",
    "x_test_origin  = data['x_test']\n",
    "y_test_origin  = data['y_test']\n",
    "\n",
    "print('X Train shape: ', x_train_origin.shape)\n",
    "print('Y Train shape: ', y_train_origin.shape)\n",
    "print('X Test shape:  ', x_test_origin.shape)\n",
    "print('Y Test shape:  ', y_test_origin.shape)"
   ]
  },
  {
   "cell_type": "code",
   "execution_count": 3,
   "metadata": {},
   "outputs": [
    {
     "data": {
      "image/png": "[encoded data removed]",
      "text/plain": [
       "<Figure size 432x288 with 1 Axes>"
      ]
     },
     "metadata": {},
     "output_type": "display_data"
    },
    {
     "name": "stdout",
     "output_type": "stream",
     "text": [
      "Number is =  4\n"
     ]
    }
   ],
   "source": [
    "import matplotlib.pyplot as plt\n",
    "import random\n",
    "\n",
    "i = random.randint(0,60000)\n",
    "plt.imshow(x_train_origin[i], cmap='Greys')\n",
    "plt.xticks(())\n",
    "plt.yticks(())\n",
    "plt.show()\n",
    "print(\"Number is = \", y_train_origin[i])"
   ]
  },
  {
   "cell_type": "code",
   "execution_count": 4,
   "metadata": {},
   "outputs": [],
   "source": [
    "batch_size = 128\n",
    "num_classes = 10\n",
    "epochs = 10"
   ]
  },
  {
   "cell_type": "code",
   "execution_count": 5,
   "metadata": {},
   "outputs": [
    {
     "name": "stdout",
     "output_type": "stream",
     "text": [
      "X Train shape:  (60000, 28, 28, 1)\n",
      "X test shape:  (10000, 28, 28, 1)\n",
      "Train Samples:  60000\n",
      "Test Samples:   10000\n"
     ]
    }
   ],
   "source": [
    "# preprocess the data\n",
    "\n",
    "x_train = x_train_origin.reshape(x_train_origin.shape[0], 28, 28, 1)\n",
    "x_test  = x_test_origin.reshape(x_test_origin.shape[0], 28, 28, 1)\n",
    "input_shape = (28, 28, 1)\n",
    "\n",
    "y_train = keras.utils.to_categorical(y_train_origin, num_classes)\n",
    "y_test  = keras.utils.to_categorical(y_test_origin, num_classes)\n",
    "\n",
    "x_train = x_train.astype('float32')\n",
    "x_test = x_test.astype('float32')\n",
    "x_train /= 255\n",
    "x_test  /= 255\n",
    "\n",
    "print('X Train shape: ', x_train.shape)\n",
    "print('X test shape: ', x_test.shape)\n",
    "print('Train Samples: ', x_train.shape[0])\n",
    "print('Test Samples:  ', x_test.shape[0])"
   ]
  },
  {
   "cell_type": "code",
   "execution_count": 6,
   "metadata": {},
   "outputs": [],
   "source": [
    "# create model\n",
    "\n",
    "model = Sequential()\n",
    "model.add(Conv2D(filters=10, kernel_size=3, activation=\"relu\", input_shape=(28,  28,  1)))\n",
    "model.add(Conv2D(10,  3, activation=\"relu\"))\n",
    "model.add(MaxPooling2D())\n",
    "model.add(Conv2D(10,  3, activation=\"relu\"))\n",
    "model.add(Conv2D(10,  3, activation=\"relu\"))\n",
    "model.add(MaxPooling2D())\n",
    "model.add(Flatten())\n",
    "model.add(Dense(10, activation=\"softmax\"))\n",
    "\n",
    "model.compile(loss=keras.losses.categorical_crossentropy,optimizer=keras.optimizers.Adam(),metrics=['accuracy'])"
   ]
  },
  {
   "cell_type": "code",
   "execution_count": 7,
   "metadata": {},
   "outputs": [
    {
     "name": "stdout",
     "output_type": "stream",
     "text": [
      "Epoch 1/10\n",
      "469/469 [==============================] - 40s 83ms/step - loss: 0.5228 - accuracy: 0.8359 - val_loss: 0.1478 - val_accuracy: 0.9552\n",
      "Epoch 2/10\n",
      "469/469 [==============================] - 40s 86ms/step - loss: 0.1316 - accuracy: 0.9606 - val_loss: 0.0949 - val_accuracy: 0.9692\n",
      "Epoch 3/10\n",
      "469/469 [==============================] - 40s 86ms/step - loss: 0.0973 - accuracy: 0.9708 - val_loss: 0.0716 - val_accuracy: 0.9791\n",
      "Epoch 4/10\n",
      "469/469 [==============================] - 39s 83ms/step - loss: 0.0793 - accuracy: 0.9762 - val_loss: 0.0541 - val_accuracy: 0.9823\n",
      "Epoch 5/10\n",
      "469/469 [==============================] - 39s 83ms/step - loss: 0.0693 - accuracy: 0.9789 - val_loss: 0.0494 - val_accuracy: 0.9838\n",
      "Epoch 6/10\n",
      "469/469 [==============================] - 39s 82ms/step - loss: 0.0622 - accuracy: 0.9808 - val_loss: 0.0506 - val_accuracy: 0.9839\n",
      "Epoch 7/10\n",
      "469/469 [==============================] - 42s 89ms/step - loss: 0.0560 - accuracy: 0.9825 - val_loss: 0.0445 - val_accuracy: 0.9852\n",
      "Epoch 8/10\n",
      "469/469 [==============================] - 40s 86ms/step - loss: 0.0531 - accuracy: 0.9835 - val_loss: 0.0397 - val_accuracy: 0.9871\n",
      "Epoch 9/10\n",
      "469/469 [==============================] - 39s 84ms/step - loss: 0.0481 - accuracy: 0.9848 - val_loss: 0.0474 - val_accuracy: 0.9861\n",
      "Epoch 10/10\n",
      "469/469 [==============================] - 40s 85ms/step - loss: 0.0441 - accuracy: 0.9863 - val_loss: 0.0384 - val_accuracy: 0.9884\n"
     ]
    }
   ],
   "source": [
    "# train the model\n",
    "\n",
    "hist = model.fit(x_train, y_train, batch_size = batch_size, epochs = epochs, verbose = 1, validation_data=(x_test, y_test))"
   ]
  },
  {
   "cell_type": "code",
   "execution_count": 8,
   "metadata": {},
   "outputs": [],
   "source": [
    "# save model\n",
    "model.save('mnist.h5')"
   ]
  },
  {
   "cell_type": "code",
   "execution_count": 9,
   "metadata": {},
   "outputs": [
    {
     "name": "stdout",
     "output_type": "stream",
     "text": [
      "Test loss: 0.03836173564195633\n",
      "Test accuracy: 0.9883999824523926\n"
     ]
    }
   ],
   "source": [
    "# evaluate model\n",
    "\n",
    "score = model.evaluate(x_test, y_test, verbose=0)\n",
    "print('Test loss:', score[0])\n",
    "print('Test accuracy:', score[1])"
   ]
  },
  {
   "cell_type": "code",
   "execution_count": 10,
   "metadata": {},
   "outputs": [
    {
     "data": {
      "image/png": "[encoded data removed]",
      "text/plain": [
       "<Figure size 432x288 with 1 Axes>"
      ]
     },
     "metadata": {},
     "output_type": "display_data"
    },
    {
     "name": "stdout",
     "output_type": "stream",
     "text": [
      "Model prediction is:  2\n"
     ]
    }
   ],
   "source": [
    "i = random.randint(0,10000)\n",
    "plt.imshow(x_test[i], cmap='Greys')\n",
    "plt.xticks(())\n",
    "plt.yticks(())\n",
    "plt.show()\n",
    "print('Model prediction is: ', np.argmax(model.predict(x_test[i].reshape(1,28,28,1))))"
   ]
  },
  {
   "cell_type": "markdown",
   "metadata": {},
   "source": [
    "## GUI for Model"
   ]
  },
  {
   "cell_type": "code",
   "execution_count": 11,
   "metadata": {},
   "outputs": [],
   "source": [
    "# import the libraries\n",
    "\n",
    "from keras.models import load_model\n",
    "from tkinter import *\n",
    "import tkinter as tk\n",
    "import win32gui\n",
    "from PIL import ImageGrab, Image\n",
    "import numpy as np"
   ]
  },
  {
   "cell_type": "code",
   "execution_count": 12,
   "metadata": {},
   "outputs": [],
   "source": [
    "# load model\n",
    "model = load_model('mnist.h5')"
   ]
  },
  {
   "cell_type": "code",
   "execution_count": 13,
   "metadata": {},
   "outputs": [],
   "source": [
    "# create gui\n",
    "def predict_digit(img):\n",
    "\n",
    "    img = img.resize((28,28))\n",
    "\n",
    "    img = img.convert('L')\n",
    "    img = np.array(img)\n",
    "\n",
    "    img = img.reshape(1,28,28,1)\n",
    "    img = img/255.0\n",
    "\n",
    "    res = model.predict([img])[0]\n",
    "    return np.argmax(res), max(res)\n",
    "\n",
    "class App(tk.Tk):\n",
    "    def __init__(self):\n",
    "        tk.Tk.__init__(self)\n",
    "\n",
    "        self.x = self.y = 0\n",
    "        \n",
    "        self.canvas = tk.Canvas(self, width=300, height=300, bg = \"white\", cursor=\"cross\")\n",
    "        self.label = tk.Label(self, text=\"Draw..\", font=(\"Helvetica\", 48))\n",
    "        self.classify_btn = tk.Button(self, text = \"Recognise\", command = self.classify_handwriting)   \n",
    "        self.button_clear = tk.Button(self, text = \"Clear\", command = self.clear_all)\n",
    "       \n",
    "        self.canvas.grid(row=0, column=0, pady=2, sticky=W, )\n",
    "        self.label.grid(row=0, column=1,pady=2, padx=2)\n",
    "        self.classify_btn.grid(row=1, column=1, pady=2, padx=2)\n",
    "        self.button_clear.grid(row=1, column=0, pady=2)\n",
    "        \n",
    "        self.canvas.bind(\"<B1-Motion>\", self.draw_lines)\n",
    "\n",
    "    def clear_all(self):\n",
    "        self.canvas.delete(\"all\")\n",
    "        \n",
    "    def classify_handwriting(self):\n",
    "        HWND = self.canvas.winfo_id()\n",
    "        rect = win32gui.GetWindowRect(HWND)\n",
    "        a,b,c,d = rect\n",
    "        rect=(a+4,b+4,c-4,d-4)\n",
    "        im = ImageGrab.grab(rect)\n",
    "\n",
    "        digit, acc = predict_digit(im)\n",
    "        self.label.configure(text= str(digit)+', '+ str(int(acc*100))+'%')\n",
    "\n",
    "    def draw_lines(self, event):\n",
    "        self.x = event.x\n",
    "        self.y = event.y\n",
    "        r=8\n",
    "        self.canvas.create_oval(self.x-r, self.y-r, self.x + r, self.y + r, fill='black')\n"
   ]
  },
  {
   "cell_type": "code",
   "execution_count": 14,
   "metadata": {},
   "outputs": [],
   "source": [
    "# run app\n",
    "\n",
    "app = App()\n",
    "mainloop()"
   ]
  }
 ],
 "metadata": {
  "interpreter": {
   "hash": "ea03620985fe9541401b6287d5b3806837c5a18d02f4e38938de045c91824ba2"
  },
  "kernelspec": {
   "display_name": "Python 3.9.7 64-bit ('dlenv': venv)",
   "language": "python",
   "name": "python3"
  },
  "language_info": {
   "codemirror_mode": {
    "name": "ipython",
    "version": 3
   },
   "file_extension": ".py",
   "mimetype": "text/x-python",
   "name": "python",
   "nbconvert_exporter": "python",
   "pygments_lexer": "ipython3",
   "version": "3.8.12"
  },
  "orig_nbformat": 4
 },
 "nbformat": 4,
 "nbformat_minor": 2
}
